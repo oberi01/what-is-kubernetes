{
 "metadata": {
  "language_info": {
   "codemirror_mode": {
    "name": "ipython",
    "version": 3
   },
   "file_extension": ".py",
   "mimetype": "text/x-python",
   "name": "python",
   "nbconvert_exporter": "python",
   "pygments_lexer": "ipython3",
   "version": "3.8.3-final"
  },
  "orig_nbformat": 2,
  "kernelspec": {
   "name": "python3",
   "display_name": "Python 3",
   "language": "python"
  }
 },
 "nbformat": 4,
 "nbformat_minor": 2,
 "cells": [
  {
   "cell_type": "code",
   "execution_count": 3,
   "metadata": {},
   "outputs": [
    {
     "output_type": "stream",
     "name": "stdout",
     "text": [
      "Listing pods with their IPs:\n172.17.0.7\tdefault\tgrafana-f795bf6f5-whqqm\n172.17.0.8\tdefault\tprometheus-alertmanager-74fd55449c-kc7wm\n172.17.0.10\tdefault\tprometheus-kube-state-metrics-95d956569-f6p24\n172.23.112.13\tdefault\tprometheus-node-exporter-t7qng\n172.17.0.11\tdefault\tprometheus-pushgateway-7fc849bb75-dt5hp\n172.17.0.9\tdefault\tprometheus-server-6856796dbc-vv7d7\n172.17.0.2\tkube-system\tcoredns-f9fd979d6-8st2q\n172.23.112.13\tkube-system\tetcd-minikube\n172.23.112.13\tkube-system\tkube-apiserver-minikube\n172.23.112.13\tkube-system\tkube-controller-manager-minikube\n172.23.112.13\tkube-system\tkube-proxy-748mc\n172.23.112.13\tkube-system\tkube-scheduler-minikube\n172.23.112.13\tkube-system\tstorage-provisioner\n172.17.0.3\tkubernetes-dashboard\tdashboard-metrics-scraper-c95fcf479-x9fr4\n172.17.0.4\tkubernetes-dashboard\tkubernetes-dashboard-584f46694c-4krct\n"
     ]
    }
   ],
   "source": [
    "from kubernetes import client, config\n",
    "\n",
    "# Configs can be set in Configuration class directly or using helper utility\n",
    "config.load_kube_config()\n",
    "\n",
    "v1 = client.CoreV1Api()\n",
    "print(\"Listing pods with their IPs:\")\n",
    "ret = v1.list_pod_for_all_namespaces(watch=False)\n",
    "for i in ret.items:\n",
    "    print(\"%s\\t%s\\t%s\" % (i.status.pod_ip, i.metadata.namespace, i.metadata.name))"
   ]
  },
  {
   "cell_type": "code",
   "execution_count": null,
   "metadata": {},
   "outputs": [],
   "source": []
  }
 ]
}